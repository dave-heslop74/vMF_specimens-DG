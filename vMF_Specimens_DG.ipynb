{
 "cells": [
  {
   "cell_type": "markdown",
   "metadata": {},
   "source": [
    "# Specimen Directional Uncertainty\n",
    "## by D. Heslop (david.heslop@anu.edu.au) & A. P. Roberts  - adapted for text file input\n",
    "#### Version1: 25/10/21\n",
    "\n",
    "**Heslop, D. & A. P. Roberts (2020). Uncertainty propagation for paleomagnetic directions, *Journal of Geophysical Research* (*Submitted*).**"
   ]
  },
  {
   "cell_type": "markdown",
   "metadata": {},
   "source": [
    "<hr style=\"height:2px;border:none;color:#333;background-color:#333;\" />\n",
    "\n",
    "## Specimen parameters - File format\n",
    "Enter your PCA estimated directions in the form below (one row per specimen):\n",
    "1. **Dec [deg.]** - PCA declination in degrees [value between 0$^\\circ$ and 360$^\\circ$]. \n",
    "2. **Inc [deg.]** - PCA inclination in degrees [value between -90$^\\circ$ and +90$^\\circ$].\n",
    "3. **n** - Number of demagnetization points used in the PCA  [value $>$1].\n",
    "4. **MAD [deg.]** - PCA maximum angular deviation in degrees [value between 0$^\\circ$ and 90$^\\circ$].\n",
    "5. **Anchored** - Use a zero for unanchored PCA and a one for anchored PCA\n",
    "\n",
    "#### Your file should contain a single line header with the column names (see example1.csv)"
   ]
  },
  {
   "cell_type": "code",
   "execution_count": null,
   "metadata": {},
   "outputs": [],
   "source": [
    "filename = 'example1.csv' #change this to your own filename\n",
    "import vMF_Specimens_DG as sm\n",
    "X = {}\n",
    "X['file'] = filename\n",
    "X = sm.process_data(X)"
   ]
  }
 ],
 "metadata": {
  "kernelspec": {
   "display_name": "Python 3",
   "language": "python",
   "name": "python3"
  },
  "language_info": {
   "codemirror_mode": {
    "name": "ipython",
    "version": 3
   },
   "file_extension": ".py",
   "mimetype": "text/x-python",
   "name": "python",
   "nbconvert_exporter": "python",
   "pygments_lexer": "ipython3",
   "version": "3.6.6"
  }
 },
 "nbformat": 4,
 "nbformat_minor": 2
}
